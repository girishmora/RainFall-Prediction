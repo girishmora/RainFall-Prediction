{
 "cells": [
  {
   "cell_type": "code",
   "execution_count": 1,
   "metadata": {},
   "outputs": [],
   "source": [
    "import pandas as pd   #importing the libraries\n",
    "import numpy as np\n",
    "import matplotlib.pyplot as plt"
   ]
  },
  {
   "cell_type": "code",
   "execution_count": 2,
   "metadata": {},
   "outputs": [
    {
     "data": {
      "text/html": [
       "<div>\n",
       "<style scoped>\n",
       "    .dataframe tbody tr th:only-of-type {\n",
       "        vertical-align: middle;\n",
       "    }\n",
       "\n",
       "    .dataframe tbody tr th {\n",
       "        vertical-align: top;\n",
       "    }\n",
       "\n",
       "    .dataframe thead th {\n",
       "        text-align: right;\n",
       "    }\n",
       "</style>\n",
       "<table border=\"1\" class=\"dataframe\">\n",
       "  <thead>\n",
       "    <tr style=\"text-align: right;\">\n",
       "      <th></th>\n",
       "      <th>year</th>\n",
       "      <th>month</th>\n",
       "      <th>day</th>\n",
       "      <th>tempavg</th>\n",
       "      <th>DPavg</th>\n",
       "      <th>humidity avg</th>\n",
       "      <th>SLPavg</th>\n",
       "      <th>visibilityavg</th>\n",
       "      <th>windavg</th>\n",
       "      <th>Rainfall</th>\n",
       "    </tr>\n",
       "  </thead>\n",
       "  <tbody>\n",
       "    <tr>\n",
       "      <th>0</th>\n",
       "      <td>2011</td>\n",
       "      <td>2</td>\n",
       "      <td>13</td>\n",
       "      <td>21</td>\n",
       "      <td>13</td>\n",
       "      <td>60</td>\n",
       "      <td>1009</td>\n",
       "      <td>3</td>\n",
       "      <td>5</td>\n",
       "      <td>0.0</td>\n",
       "    </tr>\n",
       "    <tr>\n",
       "      <th>1</th>\n",
       "      <td>2011</td>\n",
       "      <td>2</td>\n",
       "      <td>14</td>\n",
       "      <td>21</td>\n",
       "      <td>18</td>\n",
       "      <td>75</td>\n",
       "      <td>1009</td>\n",
       "      <td>3</td>\n",
       "      <td>5</td>\n",
       "      <td>0.0</td>\n",
       "    </tr>\n",
       "    <tr>\n",
       "      <th>2</th>\n",
       "      <td>2011</td>\n",
       "      <td>2</td>\n",
       "      <td>15</td>\n",
       "      <td>22</td>\n",
       "      <td>18</td>\n",
       "      <td>75</td>\n",
       "      <td>1010</td>\n",
       "      <td>3</td>\n",
       "      <td>10</td>\n",
       "      <td>0.0</td>\n",
       "    </tr>\n",
       "    <tr>\n",
       "      <th>3</th>\n",
       "      <td>2011</td>\n",
       "      <td>2</td>\n",
       "      <td>16</td>\n",
       "      <td>23</td>\n",
       "      <td>21</td>\n",
       "      <td>86</td>\n",
       "      <td>1011</td>\n",
       "      <td>3</td>\n",
       "      <td>8</td>\n",
       "      <td>0.0</td>\n",
       "    </tr>\n",
       "    <tr>\n",
       "      <th>4</th>\n",
       "      <td>2011</td>\n",
       "      <td>2</td>\n",
       "      <td>17</td>\n",
       "      <td>23</td>\n",
       "      <td>19</td>\n",
       "      <td>75</td>\n",
       "      <td>1011</td>\n",
       "      <td>3</td>\n",
       "      <td>8</td>\n",
       "      <td>0.0</td>\n",
       "    </tr>\n",
       "  </tbody>\n",
       "</table>\n",
       "</div>"
      ],
      "text/plain": [
       "   year  month  day  tempavg  DPavg  humidity avg  SLPavg  visibilityavg  \\\n",
       "0  2011      2   13       21     13            60    1009              3   \n",
       "1  2011      2   14       21     18            75    1009              3   \n",
       "2  2011      2   15       22     18            75    1010              3   \n",
       "3  2011      2   16       23     21            86    1011              3   \n",
       "4  2011      2   17       23     19            75    1011              3   \n",
       "\n",
       "   windavg  Rainfall  \n",
       "0        5       0.0  \n",
       "1        5       0.0  \n",
       "2       10       0.0  \n",
       "3        8       0.0  \n",
       "4        8       0.0  "
      ]
     },
     "execution_count": 2,
     "metadata": {},
     "output_type": "execute_result"
    }
   ],
   "source": [
    "#importing the csv file from the cloud \n",
    "import types\n",
    "import pandas as pd\n",
    "from botocore.client import Config\n",
    "import ibm_boto3\n",
    "\n",
    "def __iter__(self): return 0\n",
    "\n",
    "# @hidden_cell\n",
    "# The following code accesses a file in your IBM Cloud Object Storage. It includes your credentials.\n",
    "# You might want to remove those credentials before you share your notebook.\n",
    "client_5b48147b09f9498fa7c48f12d5e3066e = ibm_boto3.client(service_name='s3',\n",
    "    ibm_api_key_id='Jffyyy6UIUzg3ApfD69Ym3LPtgtKQfdK0j5yVotMRRVt',\n",
    "    ibm_auth_endpoint=\"https://iam.bluemix.net/oidc/token\",\n",
    "    config=Config(signature_version='oauth'),\n",
    "    endpoint_url='https://s3.eu-geo.objectstorage.service.networklayer.com')\n",
    "\n",
    "body = client_5b48147b09f9498fa7c48f12d5e3066e.get_object(Bucket='rainfall-donotdelete-pr-wqs81g43z6mcgd',Key='raainfal.csv')['Body']\n",
    "# add missing __iter__ method, so pandas accepts body as file-like object\n",
    "if not hasattr(body, \"__iter__\"): body.__iter__ = types.MethodType( __iter__, body )\n",
    "\n",
    "ds = pd.read_csv(body)\n",
    "ds.head()\n",
    "\n"
   ]
  },
  {
   "cell_type": "code",
   "execution_count": 3,
   "metadata": {},
   "outputs": [
    {
     "data": {
      "text/html": [
       "<div>\n",
       "<style scoped>\n",
       "    .dataframe tbody tr th:only-of-type {\n",
       "        vertical-align: middle;\n",
       "    }\n",
       "\n",
       "    .dataframe tbody tr th {\n",
       "        vertical-align: top;\n",
       "    }\n",
       "\n",
       "    .dataframe thead th {\n",
       "        text-align: right;\n",
       "    }\n",
       "</style>\n",
       "<table border=\"1\" class=\"dataframe\">\n",
       "  <thead>\n",
       "    <tr style=\"text-align: right;\">\n",
       "      <th></th>\n",
       "      <th>year</th>\n",
       "      <th>month</th>\n",
       "      <th>day</th>\n",
       "      <th>tempavg</th>\n",
       "      <th>DPavg</th>\n",
       "      <th>humidity avg</th>\n",
       "      <th>SLPavg</th>\n",
       "      <th>visibilityavg</th>\n",
       "      <th>windavg</th>\n",
       "      <th>Rainfall</th>\n",
       "    </tr>\n",
       "  </thead>\n",
       "  <tbody>\n",
       "    <tr>\n",
       "      <th>0</th>\n",
       "      <td>2011</td>\n",
       "      <td>2</td>\n",
       "      <td>13</td>\n",
       "      <td>21</td>\n",
       "      <td>13</td>\n",
       "      <td>60</td>\n",
       "      <td>1009</td>\n",
       "      <td>3</td>\n",
       "      <td>5</td>\n",
       "      <td>0.0</td>\n",
       "    </tr>\n",
       "    <tr>\n",
       "      <th>1</th>\n",
       "      <td>2011</td>\n",
       "      <td>2</td>\n",
       "      <td>14</td>\n",
       "      <td>21</td>\n",
       "      <td>18</td>\n",
       "      <td>75</td>\n",
       "      <td>1009</td>\n",
       "      <td>3</td>\n",
       "      <td>5</td>\n",
       "      <td>0.0</td>\n",
       "    </tr>\n",
       "    <tr>\n",
       "      <th>2</th>\n",
       "      <td>2011</td>\n",
       "      <td>2</td>\n",
       "      <td>15</td>\n",
       "      <td>22</td>\n",
       "      <td>18</td>\n",
       "      <td>75</td>\n",
       "      <td>1010</td>\n",
       "      <td>3</td>\n",
       "      <td>10</td>\n",
       "      <td>0.0</td>\n",
       "    </tr>\n",
       "    <tr>\n",
       "      <th>3</th>\n",
       "      <td>2011</td>\n",
       "      <td>2</td>\n",
       "      <td>16</td>\n",
       "      <td>23</td>\n",
       "      <td>21</td>\n",
       "      <td>86</td>\n",
       "      <td>1011</td>\n",
       "      <td>3</td>\n",
       "      <td>8</td>\n",
       "      <td>0.0</td>\n",
       "    </tr>\n",
       "    <tr>\n",
       "      <th>4</th>\n",
       "      <td>2011</td>\n",
       "      <td>2</td>\n",
       "      <td>17</td>\n",
       "      <td>23</td>\n",
       "      <td>19</td>\n",
       "      <td>75</td>\n",
       "      <td>1011</td>\n",
       "      <td>3</td>\n",
       "      <td>8</td>\n",
       "      <td>0.0</td>\n",
       "    </tr>\n",
       "  </tbody>\n",
       "</table>\n",
       "</div>"
      ],
      "text/plain": [
       "   year  month  day  tempavg  DPavg  humidity avg  SLPavg  visibilityavg  \\\n",
       "0  2011      2   13       21     13            60    1009              3   \n",
       "1  2011      2   14       21     18            75    1009              3   \n",
       "2  2011      2   15       22     18            75    1010              3   \n",
       "3  2011      2   16       23     21            86    1011              3   \n",
       "4  2011      2   17       23     19            75    1011              3   \n",
       "\n",
       "   windavg  Rainfall  \n",
       "0        5       0.0  \n",
       "1        5       0.0  \n",
       "2       10       0.0  \n",
       "3        8       0.0  \n",
       "4        8       0.0  "
      ]
     },
     "execution_count": 3,
     "metadata": {},
     "output_type": "execute_result"
    }
   ],
   "source": [
    "ds.head() #The first five values"
   ]
  },
  {
   "cell_type": "code",
   "execution_count": 4,
   "metadata": {},
   "outputs": [
    {
     "data": {
      "text/plain": [
       "year             0\n",
       "month            0\n",
       "day              0\n",
       "tempavg          0\n",
       "DPavg            0\n",
       "humidity avg     0\n",
       "SLPavg           0\n",
       "visibilityavg    0\n",
       "windavg          0\n",
       "Rainfall         0\n",
       "dtype: int64"
      ]
     },
     "execution_count": 4,
     "metadata": {},
     "output_type": "execute_result"
    }
   ],
   "source": [
    "ds.isnull().sum() #checking wheather there is a null value"
   ]
  },
  {
   "cell_type": "code",
   "execution_count": 5,
   "metadata": {},
   "outputs": [],
   "source": [
    "x=ds.iloc[:,:9].values  #diving the independent and dependent variables\n",
    "y=ds.iloc[:,9].values"
   ]
  },
  {
   "cell_type": "code",
   "execution_count": 6,
   "metadata": {},
   "outputs": [],
   "source": [
    "from sklearn.model_selection import train_test_split  #splitting into the train and test values\n",
    "x_train, x_test, y_train, y_test = train_test_split(x, y, test_size = 0.20,random_state=0)"
   ]
  },
  {
   "cell_type": "code",
   "execution_count": 7,
   "metadata": {},
   "outputs": [
    {
     "data": {
      "text/plain": [
       "array([[2015,    6,    8, ..., 1004,    6,   14],\n",
       "       [2015,    4,   21, ..., 1008,    6,   13],\n",
       "       [2017,    2,   23, ..., 1012,    4,   14],\n",
       "       ..., \n",
       "       [2013,    8,   16, ..., 1003,    5,   10],\n",
       "       [2013,   10,   27, ..., 1007,    5,   11],\n",
       "       [2016,    1,   23, ..., 1017,    2,   13]])"
      ]
     },
     "execution_count": 7,
     "metadata": {},
     "output_type": "execute_result"
    }
   ],
   "source": [
    "x_train #checking xtrain values"
   ]
  },
  {
   "cell_type": "code",
   "execution_count": 8,
   "metadata": {},
   "outputs": [
    {
     "data": {
      "text/plain": [
       "RandomForestRegressor(bootstrap=True, criterion='mse', max_depth=None,\n",
       "           max_features='auto', max_leaf_nodes=None,\n",
       "           min_impurity_decrease=0.0, min_impurity_split=None,\n",
       "           min_samples_leaf=1, min_samples_split=2,\n",
       "           min_weight_fraction_leaf=0.0, n_estimators=100, n_jobs=1,\n",
       "           oob_score=False, random_state=0, verbose=0, warm_start=False)"
      ]
     },
     "execution_count": 8,
     "metadata": {},
     "output_type": "execute_result"
    }
   ],
   "source": [
    "from sklearn.ensemble import RandomForestRegressor   #fitting the RandomForest Regressor to the train values\n",
    "regressor= RandomForestRegressor(n_estimators=100, random_state = 0)\n",
    "regressor.fit(x_train, y_train)\n"
   ]
  },
  {
   "cell_type": "code",
   "execution_count": 9,
   "metadata": {},
   "outputs": [],
   "source": [
    "ypred =regressor.predict(x_test) #predicting the xtest values"
   ]
  },
  {
   "cell_type": "code",
   "execution_count": 10,
   "metadata": {},
   "outputs": [
    {
     "data": {
      "text/plain": [
       "array([  2.07510000e+00,   0.00000000e+00,   0.00000000e+00,\n",
       "         0.00000000e+00,   1.02000000e-02,   0.00000000e+00,\n",
       "         0.00000000e+00,   1.09200000e-01,   8.98630000e+00,\n",
       "         1.39710000e+00,   2.78550000e+00,   6.39640000e+00,\n",
       "         4.06400000e-01,   0.00000000e+00,   1.71040000e+01,\n",
       "         1.36920000e+00,   2.01640000e+00,   4.80100000e-01,\n",
       "         8.91800000e-01,   6.75500000e-01,   5.97000000e-01,\n",
       "         4.75909000e+01,   7.48100000e+00,   1.51941000e+01,\n",
       "         2.27230000e+00,   2.84500000e-01,   0.00000000e+00,\n",
       "         0.00000000e+00,   1.62320000e+00,   0.00000000e+00,\n",
       "         1.37170000e+00,   1.49700000e-01,   0.00000000e+00,\n",
       "         9.45000000e-01,   4.39390000e+00,   0.00000000e+00,\n",
       "         2.56850000e+00,   0.00000000e+00,   5.36250000e+00,\n",
       "         0.00000000e+00,   4.07660000e+00,   0.00000000e+00,\n",
       "         2.04000000e-02,   0.00000000e+00,   0.00000000e+00,\n",
       "         0.00000000e+00,   6.83000000e-02,   4.07000000e-02,\n",
       "         7.71850000e+00,   9.29500000e-01,   9.88100000e-01,\n",
       "         5.51150000e+00,   8.81090000e+00,   1.20920000e+00,\n",
       "         1.65330000e+00,   2.64130000e+01,   1.25000000e-02,\n",
       "         1.50120000e+00,   1.06210000e+00,   9.63920000e+00,\n",
       "         7.23890000e+00,   1.35850000e+00,   1.93760000e+00,\n",
       "         0.00000000e+00,   1.28570000e+00,   1.29500000e-01,\n",
       "         0.00000000e+00,   3.30200000e-01,   1.65830000e+00,\n",
       "         7.06660000e+00,   2.03200000e-01,   1.19400000e-01,\n",
       "         2.25074000e+01,   4.48320000e+00,   1.00060000e+00,\n",
       "         1.51330000e+00,   0.00000000e+00,   1.56000000e+00,\n",
       "         1.29790000e+00,   0.00000000e+00,   3.35540000e+00,\n",
       "         0.00000000e+00,   0.00000000e+00,   3.04990000e+00,\n",
       "         1.15580000e+00,   6.86780000e+00,   1.51061000e+01,\n",
       "         8.10400000e-01,   2.97150000e+00,   2.94500000e-01,\n",
       "         0.00000000e+00,   2.27560000e+00,   1.36504000e+01,\n",
       "         1.98420000e+00,   1.35820000e+01,   5.79000000e-01,\n",
       "         0.00000000e+00,   2.79650000e+00,   4.06390000e+00,\n",
       "         1.57400000e-01,   6.36150000e+00,   7.10340000e+00,\n",
       "         4.89930000e+00,   1.29338000e+01,   2.03930000e+00,\n",
       "         9.12000000e-02,   5.66500000e-01,   0.00000000e+00,\n",
       "         3.50000000e-02,   0.00000000e+00,   4.32000000e-02,\n",
       "         0.00000000e+00,   2.36730000e+00,   1.78800000e+00,\n",
       "         1.20880000e+00,   3.66120000e+00,   1.41960000e+00,\n",
       "         5.42030000e+00,   0.00000000e+00,   5.71500000e-01,\n",
       "         5.27310000e+00,   1.98400000e+00,   6.52900000e-01,\n",
       "         1.35390000e+00,   0.00000000e+00,   9.77650000e+00,\n",
       "         0.00000000e+00,   1.53507000e+01,   1.10750000e+00,\n",
       "         0.00000000e+00,   5.08000000e-02,   1.44144000e+01,\n",
       "         4.87500000e-01,   6.23380000e+00,   1.40980000e+00,\n",
       "         3.46920000e+00,   1.65370000e+00,   3.53901000e+01,\n",
       "         0.00000000e+00,   0.00000000e+00,   3.74630000e+00,\n",
       "         1.27250000e+00,   2.05607000e+01,   9.12020000e+00,\n",
       "         0.00000000e+00,   4.71700000e-01,   6.88770000e+00,\n",
       "         4.67200000e-01,   1.25768000e+01,   5.47170000e+00,\n",
       "         0.00000000e+00,   9.92770000e+00,   5.10000000e-03,\n",
       "         2.79200000e+00,   0.00000000e+00,   0.00000000e+00,\n",
       "         7.41600000e-01,   6.39800000e-01,   3.59836000e+01,\n",
       "         4.92500000e-01,   0.00000000e+00,   3.44370000e+00,\n",
       "         0.00000000e+00,   1.42935000e+01,   0.00000000e+00,\n",
       "         8.50700000e-01,   5.10000000e-03,   6.24290000e+00,\n",
       "         5.81500000e-01,   1.12300000e+00,   1.44300000e+00,\n",
       "         0.00000000e+00,   1.20873000e+01,   1.52400000e-01,\n",
       "         3.25200000e-01,   4.44300000e-01,   2.28370000e+00,\n",
       "         8.97200000e-01,   3.14800000e-01,   0.00000000e+00,\n",
       "         1.60200000e-01,   1.41510000e+00,   7.65280000e+00,\n",
       "         7.54200000e-01,   6.98500000e-01,   1.42574000e+01,\n",
       "         0.00000000e+00,   1.97340000e+00,   1.33610000e+00,\n",
       "         3.98800000e-01,   2.07650000e+00,   1.07943000e+01,\n",
       "         1.00759000e+01,   5.36200000e-01,   0.00000000e+00,\n",
       "         1.72460000e+00,   1.13800000e+00,   2.36450000e+01,\n",
       "         1.91997000e+01,   0.00000000e+00,   0.00000000e+00,\n",
       "         1.09200000e-01,   8.02800000e-01,   0.00000000e+00,\n",
       "         0.00000000e+00,   4.11300000e-01,   0.00000000e+00,\n",
       "         0.00000000e+00,   0.00000000e+00,   0.00000000e+00,\n",
       "         7.06360000e+00,   2.55820000e+00,   0.00000000e+00,\n",
       "         9.71630000e+00,   3.57310000e+00,   1.63723000e+01,\n",
       "         3.27650000e+00,   1.97350000e+00,   2.58530000e+00,\n",
       "         0.00000000e+00,   7.60000000e-03,   0.00000000e+00,\n",
       "         0.00000000e+00,   1.91466000e+01,   1.22281000e+01,\n",
       "         1.37213000e+01,   1.92770000e+00,   5.89300000e-01,\n",
       "         1.61201000e+01,   0.00000000e+00,   3.75080000e+00,\n",
       "         8.63430000e+00,   2.59200000e-01,   2.79170000e+00,\n",
       "         2.20720000e+00,   2.35750000e+00,   0.00000000e+00,\n",
       "         1.12270000e+00,   4.39400000e-01,   5.08000000e-02,\n",
       "         1.06190000e+00,   0.00000000e+00,   1.65860000e+00,\n",
       "         2.48800000e-01,   1.91180000e+00,   2.28080000e+00,\n",
       "         0.00000000e+00,   1.59900000e-01,   2.33670000e+00,\n",
       "         0.00000000e+00,   1.08980000e+00,   3.09800000e-01,\n",
       "         1.47090000e+00,   7.11000000e-02,   0.00000000e+00,\n",
       "         1.10500000e+00,   0.00000000e+00,   3.66710000e+00,\n",
       "         1.33660000e+00,   2.43800000e-01,   9.16000000e-02,\n",
       "         1.01500000e-01,   2.50000000e-03,   0.00000000e+00,\n",
       "         3.22500000e-01,   1.85387000e+01,   8.33400000e-01,\n",
       "         0.00000000e+00,   2.11640000e+00,   1.96320000e+00,\n",
       "         5.48300000e-01,   3.68200000e-01,   2.46300000e-01,\n",
       "         0.00000000e+00,   2.27010000e+00,   7.62000000e-02,\n",
       "         1.01110000e+00,   7.60000000e-03,   2.20540000e+00,\n",
       "         6.26200000e+00,   1.49800000e-01,   1.70230000e+00,\n",
       "         3.77000000e-01,   1.28550000e+00,   2.13620000e+00,\n",
       "         3.27380000e+00,   0.00000000e+00,   1.34279000e+01,\n",
       "         9.04000000e-01,   1.77710000e+00,   8.35990000e+00,\n",
       "         1.80400000e-01,   8.83800000e-01,   1.19400000e-01,\n",
       "         2.42598000e+01,   8.81200000e-01,   3.88600000e-01,\n",
       "         5.89500000e-01,   0.00000000e+00,   1.04243000e+01,\n",
       "         1.92010000e+00,   3.95230000e+00,   1.23367000e+01,\n",
       "         8.56200000e-01,   4.19320000e+00,   1.57980000e+00,\n",
       "         5.21100000e-01,   0.00000000e+00,   0.00000000e+00,\n",
       "         4.29200000e-01,   1.46870000e+00,   0.00000000e+00,\n",
       "         2.84600000e-01,   0.00000000e+00,   0.00000000e+00,\n",
       "         5.08000000e-02,   4.19100000e-01,   2.11400000e+00,\n",
       "         4.99380000e+00,   4.84080000e+00,   1.30790000e+01,\n",
       "         8.89100000e-01,   2.97800000e+00,   2.95360000e+00,\n",
       "         1.93090000e+00,   2.13870000e+00,   2.76820000e+00,\n",
       "         7.16250000e+00,   1.80400000e-01,   1.11153000e+01,\n",
       "         1.02000000e-02,   8.02600000e-01,   0.00000000e+00,\n",
       "         1.14040000e+00,   5.67870000e+00,   2.48438000e+01,\n",
       "         0.00000000e+00,   4.57100000e-01,   0.00000000e+00,\n",
       "         1.92540000e+00,   3.63470000e+00,   3.50260000e+00,\n",
       "         5.00600000e-01,   0.00000000e+00,   1.93674000e+01,\n",
       "         3.55000000e-02,   5.64900000e+00,   0.00000000e+00,\n",
       "         0.00000000e+00,   2.37720000e+00,   2.00600000e-01,\n",
       "         3.52800000e-01,   1.48950000e+00,   2.89700000e-01,\n",
       "         2.89600000e-01,   0.00000000e+00,   6.40100000e-01,\n",
       "         1.99078000e+01,   0.00000000e+00,   1.87410000e+00,\n",
       "         0.00000000e+00,   1.64580000e+00,   5.46000000e-01,\n",
       "         6.44650000e+00,   0.00000000e+00,   0.00000000e+00,\n",
       "         6.70160000e+00,   6.04700000e+00,   0.00000000e+00,\n",
       "         1.50300000e+00,   1.45530000e+00,   6.87900000e+00,\n",
       "         0.00000000e+00,   0.00000000e+00,   0.00000000e+00,\n",
       "         2.78930000e+00,   1.09200000e-01,   9.32100000e-01,\n",
       "         9.29900000e-01,   0.00000000e+00,   2.33210000e+00,\n",
       "         1.28730000e+00,   6.07400000e-01,   3.02690000e+00,\n",
       "         4.14600000e-01,   0.00000000e+00,   1.29770000e+00,\n",
       "         4.69190000e+00,   1.29820000e+00,   9.27600000e-01,\n",
       "         1.32000000e-01,   1.75770000e+00,   2.33600000e-01,\n",
       "         3.10000000e-01,   0.00000000e+00,   0.00000000e+00,\n",
       "         2.75590000e+00,   2.04000000e-02,   2.04000000e-02,\n",
       "         1.00000000e-02,   2.41200000e-01,   1.76760000e+00,\n",
       "         4.06400000e-01,   2.95876000e+01,   3.55600000e-01,\n",
       "         3.74130000e+00,   0.00000000e+00,   7.29480000e+00,\n",
       "         2.00650000e+00,   4.67390000e+00,   4.00000000e-02,\n",
       "         7.89800000e-01,   1.58480000e+00,   0.00000000e+00,\n",
       "         8.78070000e+00,   1.64120000e+00,   1.17360000e+00,\n",
       "         2.79380000e+00,   2.58248000e+01,   1.15330000e+00,\n",
       "         1.96600000e+00,   4.45270000e+00,   2.27010000e+00,\n",
       "         2.93360000e+00,   1.56940000e+00,   7.12000000e-02,\n",
       "         0.00000000e+00,   3.78500000e-01,   4.27790000e+00,\n",
       "         0.00000000e+00,   0.00000000e+00,   3.52900000e-01,\n",
       "         1.24005000e+01,   0.00000000e+00,   4.55170000e+00,\n",
       "         0.00000000e+00,   0.00000000e+00,   4.39600000e-01,\n",
       "         2.80420000e+00,   0.00000000e+00,   8.76720000e+00,\n",
       "         8.80490000e+00,   5.15300000e-01,   1.52890000e+00,\n",
       "         0.00000000e+00,   1.40389000e+01,   0.00000000e+00,\n",
       "         9.40000000e-02,   1.02000000e-02,   4.71130000e+00,\n",
       "         4.03420000e+00,   1.00580000e+00,   0.00000000e+00,\n",
       "         0.00000000e+00,   8.12000000e-02,   3.55950000e+00,\n",
       "         7.60000000e-03,   0.00000000e+00,   2.30580000e+00,\n",
       "         5.11870000e+00,   4.32000000e-01,   2.65930000e+00,\n",
       "         0.00000000e+00,   5.28100000e-01,   4.95300000e-01,\n",
       "         1.32000000e-01,   3.81000000e-01,   5.73570000e+00,\n",
       "         6.18710000e+00,   0.00000000e+00,   1.15613000e+01,\n",
       "         1.07808000e+01,   7.43100000e-01])"
      ]
     },
     "execution_count": 10,
     "metadata": {},
     "output_type": "execute_result"
    }
   ],
   "source": [
    "ypred #checking predicted values"
   ]
  },
  {
   "cell_type": "code",
   "execution_count": 11,
   "metadata": {},
   "outputs": [
    {
     "data": {
      "text/plain": [
       "(473,)"
      ]
     },
     "execution_count": 11,
     "metadata": {},
     "output_type": "execute_result"
    }
   ],
   "source": [
    "y_test.shape #checking the shape of ytest\n"
   ]
  },
  {
   "cell_type": "code",
   "execution_count": 12,
   "metadata": {},
   "outputs": [],
   "source": [
    "ypred1=regressor.predict([[2011,5,20,29,25,75,1002,6,14]]) #predicting with the sample values"
   ]
  },
  {
   "cell_type": "code",
   "execution_count": 14,
   "metadata": {},
   "outputs": [
    {
     "data": {
      "text/plain": [
       "array([ 0.3862])"
      ]
     },
     "execution_count": 14,
     "metadata": {},
     "output_type": "execute_result"
    }
   ],
   "source": [
    "ypred1  #the values of predicted"
   ]
  },
  {
   "cell_type": "code",
   "execution_count": 15,
   "metadata": {},
   "outputs": [
    {
     "data": {
      "text/plain": [
       "0.29854135060672882"
      ]
     },
     "execution_count": 15,
     "metadata": {},
     "output_type": "execute_result"
    }
   ],
   "source": [
    "from sklearn.metrics import r2_score # testing the  accuracy the r2 value\n",
    "r2_score(y_test,ypred)\n"
   ]
  },
  {
   "cell_type": "code",
   "execution_count": 16,
   "metadata": {},
   "outputs": [
    {
     "data": {
      "text/plain": [
       "<matplotlib.legend.Legend at 0x7f5fade590b8>"
      ]
     },
     "execution_count": 16,
     "metadata": {},
     "output_type": "execute_result"
    },
    {
     "data": {
      "image/png": "[encoded data removed]",
      "text/plain": [
       "<matplotlib.figure.Figure at 0x7f5fb58d37b8>"
      ]
     },
     "metadata": {},
     "output_type": "display_data"
    }
   ],
   "source": [
    "plt.scatter(x_test[:,0],y_test,color='blue',label='actual') #visualization of the algorithm\n",
    "plt.xlabel('year')\n",
    "plt.ylabel('rainfall')\n",
    "plt.title('rainfall vs year')\n",
    "plt.scatter(x_test[:,0],ypred,color='red',label='predicted')\n",
    "plt.legend()"
   ]
  },
  {
   "cell_type": "code",
   "execution_count": 17,
   "metadata": {},
   "outputs": [
    {
     "data": {
      "text/plain": [
       "<matplotlib.legend.Legend at 0x7f5faddce9e8>"
      ]
     },
     "execution_count": 17,
     "metadata": {},
     "output_type": "execute_result"
    },
    {
     "data": {
      "image/png": "[encoded data removed]",
      "text/plain": [
       "<matplotlib.figure.Figure at 0x7f5fb58d36d8>"
      ]
     },
     "metadata": {},
     "output_type": "display_data"
    }
   ],
   "source": [
    "plt.scatter(x_test[:,1],y_test,color='blue',label='actual')\n",
    "plt.xlabel('month')\n",
    "plt.ylabel('rain fall')\n",
    "plt.title('rainfall vs month')\n",
    "plt.scatter(x_test[:,1],ypred,color='red',label='predicted')\n",
    "plt.legend()"
   ]
  },
  {
   "cell_type": "code",
   "execution_count": 18,
   "metadata": {},
   "outputs": [
    {
     "data": {
      "text/plain": [
       "<matplotlib.legend.Legend at 0x7f5fadd94400>"
      ]
     },
     "execution_count": 18,
     "metadata": {},
     "output_type": "execute_result"
    },
    {
     "data": {
      "image/png": "[encoded data removed]",
      "text/plain": [
       "<matplotlib.figure.Figure at 0x7f5faddc14e0>"
      ]
     },
     "metadata": {},
     "output_type": "display_data"
    }
   ],
   "source": [
    "plt.scatter(x_test[:,2],y_test,color='blue',label='actual')\n",
    "plt.xlabel('date')\n",
    "plt.ylabel('rain fall')\n",
    "plt.title('rainfall vs date')\n",
    "plt.scatter(x_test[:,2],ypred,color='red',label='predicted')\n",
    "plt.legend()"
   ]
  },
  {
   "cell_type": "code",
   "execution_count": 19,
   "metadata": {},
   "outputs": [
    {
     "data": {
      "text/plain": [
       "<matplotlib.legend.Legend at 0x7f5fadd52b00>"
      ]
     },
     "execution_count": 19,
     "metadata": {},
     "output_type": "execute_result"
    },
    {
     "data": {
      "image/png": "[encoded data removed]",
      "text/plain": [
       "<matplotlib.figure.Figure at 0x7f5fadd7db00>"
      ]
     },
     "metadata": {},
     "output_type": "display_data"
    }
   ],
   "source": [
    "plt.scatter(x_test[:,3],y_test,color='blue',label='actual')\n",
    "plt.xlabel('average temperature')\n",
    "plt.ylabel('rain fall')\n",
    "plt.title('rainfall vs average temperature')\n",
    "plt.scatter(x_test[:,3],ypred,color='red',label='predicted')\n",
    "plt.legend()"
   ]
  },
  {
   "cell_type": "code",
   "execution_count": 20,
   "metadata": {},
   "outputs": [
    {
     "data": {
      "text/plain": [
       "<matplotlib.legend.Legend at 0x7f5fadd15898>"
      ]
     },
     "execution_count": 20,
     "metadata": {},
     "output_type": "execute_result"
    },
    {
     "data": {
      "image/png": "[encoded data removed]",
      "text/plain": [
       "<matplotlib.figure.Figure at 0x7f5fadd5e588>"
      ]
     },
     "metadata": {},
     "output_type": "display_data"
    }
   ],
   "source": [
    "plt.scatter(x_test[:,4],y_test,color='blue',label='actual')\n",
    "plt.xlabel('average DP')\n",
    "plt.ylabel('rain fall')\n",
    "plt.title('rainfall vs DP')\n",
    "plt.scatter(x_test[:,4],ypred,color='red',label='predicted')\n",
    "plt.legend()"
   ]
  },
  {
   "cell_type": "code",
   "execution_count": 21,
   "metadata": {},
   "outputs": [
    {
     "data": {
      "text/plain": [
       "<matplotlib.legend.Legend at 0x7f5fadcd8f98>"
      ]
     },
     "execution_count": 21,
     "metadata": {},
     "output_type": "execute_result"
    },
    {
     "data": {
      "image/png": "[encoded data removed]",
      "text/plain": [
       "<matplotlib.figure.Figure at 0x7f5fadd65f60>"
      ]
     },
     "metadata": {},
     "output_type": "display_data"
    }
   ],
   "source": [
    "plt.scatter(x_test[:,5],y_test,color='blue',label='actual')\n",
    "plt.xlabel('average humidity')\n",
    "plt.ylabel('rain fall')\n",
    "plt.title('rainfall vs humidity')\n",
    "plt.scatter(x_test[:,5],ypred,color='red',label='predicted')\n",
    "plt.legend()"
   ]
  },
  {
   "cell_type": "code",
   "execution_count": 22,
   "metadata": {},
   "outputs": [
    {
     "data": {
      "text/plain": [
       "<matplotlib.legend.Legend at 0x7f5fadca3198>"
      ]
     },
     "execution_count": 22,
     "metadata": {},
     "output_type": "execute_result"
    },
    {
     "data": {
      "image/png": "[encoded data removed]",
      "text/plain": [
       "<matplotlib.figure.Figure at 0x7f5fadccd198>"
      ]
     },
     "metadata": {},
     "output_type": "display_data"
    }
   ],
   "source": [
    "plt.scatter(x_test[:,6],y_test,color='blue',label='actual')\n",
    "plt.xlabel('average Sea Level Pressure')\n",
    "plt.ylabel('rain fall')\n",
    "plt.title('rainfall vs Sea Level Pressure')\n",
    "plt.scatter(x_test[:,3],ypred,color='red',label='predicted')\n",
    "plt.legend()"
   ]
  },
  {
   "cell_type": "code",
   "execution_count": 23,
   "metadata": {},
   "outputs": [
    {
     "data": {
      "text/plain": [
       "<matplotlib.legend.Legend at 0x7f5fadc617b8>"
      ]
     },
     "execution_count": 23,
     "metadata": {},
     "output_type": "execute_result"
    },
    {
     "data": {
      "image/png": "[encoded data removed]",
      "text/plain": [
       "<matplotlib.figure.Figure at 0x7f5fadc33898>"
      ]
     },
     "metadata": {},
     "output_type": "display_data"
    }
   ],
   "source": [
    "plt.scatter(x_test[:,7],y_test,color='blue',label='actual')\n",
    "plt.xlabel('average visibility')\n",
    "plt.ylabel('rain fall')\n",
    "plt.title('rainfall vs average visibility')\n",
    "plt.scatter(x_test[:,7],ypred,color='red',label='predicted')\n",
    "plt.legend()"
   ]
  },
  {
   "cell_type": "code",
   "execution_count": 24,
   "metadata": {},
   "outputs": [
    {
     "data": {
      "text/plain": [
       "<matplotlib.legend.Legend at 0x7f5fadc22d30>"
      ]
     },
     "execution_count": 24,
     "metadata": {},
     "output_type": "execute_result"
    },
    {
     "data": {
      "image/png": "[encoded data removed]",
      "text/plain": [
       "<matplotlib.figure.Figure at 0x7f5fadbefef0>"
      ]
     },
     "metadata": {},
     "output_type": "display_data"
    }
   ],
   "source": [
    "plt.scatter(x_test[:,8],y_test,color='blue',label='actual')\n",
    "plt.xlabel('average wind')\n",
    "plt.ylabel('rain fall')\n",
    "plt.title('rainfall vs average wind')\n",
    "plt.scatter(x_test[:,8],ypred,color='red',label='predicted')\n",
    "plt.legend()"
   ]
  },
  {
   "cell_type": "code",
   "execution_count": 25,
   "metadata": {},
   "outputs": [
    {
     "data": {
      "text/html": [
       "<div>\n",
       "<style scoped>\n",
       "    .dataframe tbody tr th:only-of-type {\n",
       "        vertical-align: middle;\n",
       "    }\n",
       "\n",
       "    .dataframe tbody tr th {\n",
       "        vertical-align: top;\n",
       "    }\n",
       "\n",
       "    .dataframe thead th {\n",
       "        text-align: right;\n",
       "    }\n",
       "</style>\n",
       "<table border=\"1\" class=\"dataframe\">\n",
       "  <thead>\n",
       "    <tr style=\"text-align: right;\">\n",
       "      <th></th>\n",
       "      <th>year</th>\n",
       "      <th>month</th>\n",
       "      <th>day</th>\n",
       "      <th>tempavg</th>\n",
       "      <th>DPavg</th>\n",
       "      <th>humidity avg</th>\n",
       "      <th>SLPavg</th>\n",
       "      <th>visibilityavg</th>\n",
       "      <th>windavg</th>\n",
       "      <th>Rainfall</th>\n",
       "    </tr>\n",
       "  </thead>\n",
       "  <tbody>\n",
       "    <tr>\n",
       "      <th>year</th>\n",
       "      <td>1.000000</td>\n",
       "      <td>0.038898</td>\n",
       "      <td>-0.004969</td>\n",
       "      <td>0.090248</td>\n",
       "      <td>0.044044</td>\n",
       "      <td>-0.091357</td>\n",
       "      <td>0.085676</td>\n",
       "      <td>-0.082626</td>\n",
       "      <td>0.110007</td>\n",
       "      <td>0.041735</td>\n",
       "    </tr>\n",
       "    <tr>\n",
       "      <th>month</th>\n",
       "      <td>0.038898</td>\n",
       "      <td>1.000000</td>\n",
       "      <td>0.013457</td>\n",
       "      <td>0.116979</td>\n",
       "      <td>0.239600</td>\n",
       "      <td>0.318244</td>\n",
       "      <td>-0.102448</td>\n",
       "      <td>0.100189</td>\n",
       "      <td>-0.219532</td>\n",
       "      <td>0.034934</td>\n",
       "    </tr>\n",
       "    <tr>\n",
       "      <th>day</th>\n",
       "      <td>-0.004969</td>\n",
       "      <td>0.013457</td>\n",
       "      <td>1.000000</td>\n",
       "      <td>-0.028085</td>\n",
       "      <td>-0.007882</td>\n",
       "      <td>0.021505</td>\n",
       "      <td>0.007108</td>\n",
       "      <td>-0.044876</td>\n",
       "      <td>0.015099</td>\n",
       "      <td>0.005593</td>\n",
       "    </tr>\n",
       "    <tr>\n",
       "      <th>tempavg</th>\n",
       "      <td>0.090248</td>\n",
       "      <td>0.116979</td>\n",
       "      <td>-0.028085</td>\n",
       "      <td>1.000000</td>\n",
       "      <td>0.863829</td>\n",
       "      <td>0.340977</td>\n",
       "      <td>-0.674395</td>\n",
       "      <td>0.704721</td>\n",
       "      <td>0.233133</td>\n",
       "      <td>0.070369</td>\n",
       "    </tr>\n",
       "    <tr>\n",
       "      <th>DPavg</th>\n",
       "      <td>0.044044</td>\n",
       "      <td>0.239600</td>\n",
       "      <td>-0.007882</td>\n",
       "      <td>0.863829</td>\n",
       "      <td>1.000000</td>\n",
       "      <td>0.731021</td>\n",
       "      <td>-0.758224</td>\n",
       "      <td>0.604098</td>\n",
       "      <td>0.213889</td>\n",
       "      <td>0.177919</td>\n",
       "    </tr>\n",
       "    <tr>\n",
       "      <th>humidity avg</th>\n",
       "      <td>-0.091357</td>\n",
       "      <td>0.318244</td>\n",
       "      <td>0.021505</td>\n",
       "      <td>0.340977</td>\n",
       "      <td>0.731021</td>\n",
       "      <td>1.000000</td>\n",
       "      <td>-0.574413</td>\n",
       "      <td>0.173502</td>\n",
       "      <td>0.101864</td>\n",
       "      <td>0.297830</td>\n",
       "    </tr>\n",
       "    <tr>\n",
       "      <th>SLPavg</th>\n",
       "      <td>0.085676</td>\n",
       "      <td>-0.102448</td>\n",
       "      <td>0.007108</td>\n",
       "      <td>-0.674395</td>\n",
       "      <td>-0.758224</td>\n",
       "      <td>-0.574413</td>\n",
       "      <td>1.000000</td>\n",
       "      <td>-0.557946</td>\n",
       "      <td>-0.378632</td>\n",
       "      <td>-0.242161</td>\n",
       "    </tr>\n",
       "    <tr>\n",
       "      <th>visibilityavg</th>\n",
       "      <td>-0.082626</td>\n",
       "      <td>0.100189</td>\n",
       "      <td>-0.044876</td>\n",
       "      <td>0.704721</td>\n",
       "      <td>0.604098</td>\n",
       "      <td>0.173502</td>\n",
       "      <td>-0.557946</td>\n",
       "      <td>1.000000</td>\n",
       "      <td>0.244426</td>\n",
       "      <td>-0.022533</td>\n",
       "    </tr>\n",
       "    <tr>\n",
       "      <th>windavg</th>\n",
       "      <td>0.110007</td>\n",
       "      <td>-0.219532</td>\n",
       "      <td>0.015099</td>\n",
       "      <td>0.233133</td>\n",
       "      <td>0.213889</td>\n",
       "      <td>0.101864</td>\n",
       "      <td>-0.378632</td>\n",
       "      <td>0.244426</td>\n",
       "      <td>1.000000</td>\n",
       "      <td>0.164852</td>\n",
       "    </tr>\n",
       "    <tr>\n",
       "      <th>Rainfall</th>\n",
       "      <td>0.041735</td>\n",
       "      <td>0.034934</td>\n",
       "      <td>0.005593</td>\n",
       "      <td>0.070369</td>\n",
       "      <td>0.177919</td>\n",
       "      <td>0.297830</td>\n",
       "      <td>-0.242161</td>\n",
       "      <td>-0.022533</td>\n",
       "      <td>0.164852</td>\n",
       "      <td>1.000000</td>\n",
       "    </tr>\n",
       "  </tbody>\n",
       "</table>\n",
       "</div>"
      ],
      "text/plain": [
       "                   year     month       day   tempavg     DPavg  humidity avg  \\\n",
       "year           1.000000  0.038898 -0.004969  0.090248  0.044044     -0.091357   \n",
       "month          0.038898  1.000000  0.013457  0.116979  0.239600      0.318244   \n",
       "day           -0.004969  0.013457  1.000000 -0.028085 -0.007882      0.021505   \n",
       "tempavg        0.090248  0.116979 -0.028085  1.000000  0.863829      0.340977   \n",
       "DPavg          0.044044  0.239600 -0.007882  0.863829  1.000000      0.731021   \n",
       "humidity avg  -0.091357  0.318244  0.021505  0.340977  0.731021      1.000000   \n",
       "SLPavg         0.085676 -0.102448  0.007108 -0.674395 -0.758224     -0.574413   \n",
       "visibilityavg -0.082626  0.100189 -0.044876  0.704721  0.604098      0.173502   \n",
       "windavg        0.110007 -0.219532  0.015099  0.233133  0.213889      0.101864   \n",
       "Rainfall       0.041735  0.034934  0.005593  0.070369  0.177919      0.297830   \n",
       "\n",
       "                 SLPavg  visibilityavg   windavg  Rainfall  \n",
       "year           0.085676      -0.082626  0.110007  0.041735  \n",
       "month         -0.102448       0.100189 -0.219532  0.034934  \n",
       "day            0.007108      -0.044876  0.015099  0.005593  \n",
       "tempavg       -0.674395       0.704721  0.233133  0.070369  \n",
       "DPavg         -0.758224       0.604098  0.213889  0.177919  \n",
       "humidity avg  -0.574413       0.173502  0.101864  0.297830  \n",
       "SLPavg         1.000000      -0.557946 -0.378632 -0.242161  \n",
       "visibilityavg -0.557946       1.000000  0.244426 -0.022533  \n",
       "windavg       -0.378632       0.244426  1.000000  0.164852  \n",
       "Rainfall      -0.242161      -0.022533  0.164852  1.000000  "
      ]
     },
     "execution_count": 25,
     "metadata": {},
     "output_type": "execute_result"
    }
   ],
   "source": [
    "ds.corr()"
   ]
  },
  {
   "cell_type": "code",
   "execution_count": 26,
   "metadata": {},
   "outputs": [
    {
     "data": {
      "text/plain": [
       "<matplotlib.axes._subplots.AxesSubplot at 0x7f5face8f828>"
      ]
     },
     "execution_count": 26,
     "metadata": {},
     "output_type": "execute_result"
    },
    {
     "data": {
      "image/png": "[encoded data removed]",
      "text/plain": [
       "<matplotlib.figure.Figure at 0x7f5fadc18160>"
      ]
     },
     "metadata": {},
     "output_type": "display_data"
    }
   ],
   "source": [
    "import seaborn as sns\n",
    "sns.heatmap(ds.corr(),annot=True)"
   ]
  },
  {
   "cell_type": "code",
   "execution_count": 27,
   "metadata": {},
   "outputs": [],
   "source": [
    "import pickle\n",
    "s = pickle.dumps(regressor)"
   ]
  },
  {
   "cell_type": "code",
   "execution_count": 28,
   "metadata": {},
   "outputs": [
    {
     "data": {
      "text/plain": [
       "['filename.pkl']"
      ]
     },
     "execution_count": 28,
     "metadata": {},
     "output_type": "execute_result"
    }
   ],
   "source": [
    "from sklearn.externals import joblib\n",
    "joblib.dump(regressor, 'filename.pkl')\n"
   ]
  },
  {
   "cell_type": "code",
   "execution_count": 29,
   "metadata": {},
   "outputs": [
    {
     "name": "stdout",
     "output_type": "stream",
     "text": [
      "Requirement already up-to-date: watson-machine-learning-client in /opt/conda/envs/DSX-Python35/lib/python3.5/site-packages (1.0.365)\n",
      "Requirement not upgraded as not directly required: ibm-cos-sdk in /opt/conda/envs/DSX-Python35/lib/python3.5/site-packages (from watson-machine-learning-client) (2.0.1)\n",
      "Requirement not upgraded as not directly required: certifi in /opt/conda/envs/DSX-Python35/lib/python3.5/site-packages (from watson-machine-learning-client) (2019.3.9)\n",
      "Requirement not upgraded as not directly required: urllib3 in /opt/conda/envs/DSX-Python35/lib/python3.5/site-packages (from watson-machine-learning-client) (1.22)\n",
      "Requirement not upgraded as not directly required: requests in /opt/conda/envs/DSX-Python35/lib/python3.5/site-packages (from watson-machine-learning-client) (2.18.4)\n",
      "Requirement not upgraded as not directly required: pandas in /opt/conda/envs/DSX-Python35/lib/python3.5/site-packages (from watson-machine-learning-client) (0.21.0)\n",
      "Requirement not upgraded as not directly required: lomond in /opt/conda/envs/DSX-Python35/lib/python3.5/site-packages (from watson-machine-learning-client) (0.1.13)\n",
      "Requirement not upgraded as not directly required: tabulate in /opt/conda/envs/DSX-Python35/lib/python3.5/site-packages (from watson-machine-learning-client) (0.8.2)\n",
      "Requirement not upgraded as not directly required: tqdm in /opt/conda/envs/DSX-Python35/lib/python3.5/site-packages (from watson-machine-learning-client) (4.19.5)\n",
      "Requirement not upgraded as not directly required: ibm-cos-sdk-core==2.*,>=2.0.0 in /opt/conda/envs/DSX-Python35/lib/python3.5/site-packages (from ibm-cos-sdk->watson-machine-learning-client) (2.0.1)\n",
      "Requirement not upgraded as not directly required: ibm-cos-sdk-s3transfer==2.*,>=2.0.0 in /opt/conda/envs/DSX-Python35/lib/python3.5/site-packages (from ibm-cos-sdk->watson-machine-learning-client) (2.0.1)\n",
      "Requirement not upgraded as not directly required: chardet<3.1.0,>=3.0.2 in /opt/conda/envs/DSX-Python35/lib/python3.5/site-packages (from requests->watson-machine-learning-client) (3.0.4)\n",
      "Requirement not upgraded as not directly required: idna<2.7,>=2.5 in /opt/conda/envs/DSX-Python35/lib/python3.5/site-packages (from requests->watson-machine-learning-client) (2.6)\n",
      "Requirement not upgraded as not directly required: python-dateutil>=2 in /opt/conda/envs/DSX-Python35/lib/python3.5/site-packages (from pandas->watson-machine-learning-client) (2.6.1)\n",
      "Requirement not upgraded as not directly required: pytz>=2011k in /opt/conda/envs/DSX-Python35/lib/python3.5/site-packages (from pandas->watson-machine-learning-client) (2018.3)\n",
      "Requirement not upgraded as not directly required: numpy>=1.9.0 in /opt/conda/envs/DSX-Python35/lib/python3.5/site-packages (from pandas->watson-machine-learning-client) (1.13.3)\n",
      "Requirement not upgraded as not directly required: six>=1.10.0 in /opt/conda/envs/DSX-Python35/lib/python3.5/site-packages (from lomond->watson-machine-learning-client) (1.11.0)\n",
      "Requirement not upgraded as not directly required: jmespath<1.0.0,>=0.7.1 in /opt/conda/envs/DSX-Python35/lib/python3.5/site-packages (from ibm-cos-sdk-core==2.*,>=2.0.0->ibm-cos-sdk->watson-machine-learning-client) (0.9.3)\n",
      "Requirement not upgraded as not directly required: docutils>=0.10 in /opt/conda/envs/DSX-Python35/lib/python3.5/site-packages (from ibm-cos-sdk-core==2.*,>=2.0.0->ibm-cos-sdk->watson-machine-learning-client) (0.14)\n",
      "\u001b[31mtensorflow 1.3.0 requires tensorflow-tensorboard<0.2.0,>=0.1.0, which is not installed.\u001b[0m\n"
     ]
    }
   ],
   "source": [
    "get_ipython().system(u'pip install watson-machine-learning-client --upgrade')\n"
   ]
  },
  {
   "cell_type": "code",
   "execution_count": 30,
   "metadata": {},
   "outputs": [
    {
     "name": "stderr",
     "output_type": "stream",
     "text": [
      "/opt/conda/envs/DSX-Python35/lib/python3.5/site-packages/sklearn/cross_validation.py:41: DeprecationWarning: This module was deprecated in version 0.18 in favor of the model_selection module into which all the refactored classes and functions are moved. Also note that the interface of the new CV iterators are different from that of this module. This module will be removed in 0.20.\n",
      "  \"This module will be removed in 0.20.\", DeprecationWarning)\n",
      "2019-06-20 18:35:30,236 - watson_machine_learning_client.metanames - WARNING - 'AUTHOR_EMAIL' meta prop is deprecated. It will be ignored.\n"
     ]
    }
   ],
   "source": [
    "from watson_machine_learning_client import WatsonMachineLearningAPIClient\n"
   ]
  },
  {
   "cell_type": "code",
   "execution_count": 31,
   "metadata": {},
   "outputs": [],
   "source": [
    "wml_credentials={\n",
    "  \"url\": \"https://eu-gb.ml.cloud.ibm.com\",\n",
    "  \"access_key\": \"b05P29xHFXmKdxMCV-DlRIAvNu08hr9amhyLL_h3ABTh\",\n",
    "  \"username\": \"3dab30e9-9166-4158-8f0f-7d7a620815a1\",\n",
    "  \"password\": \"69c68a45-147c-4461-bcef-4ddde06a0691\",\n",
    "  \"instance_id\": \"397e2ade-47a0-4f16-ac0d-fd7a6cfbceb1\"\n",
    "}"
   ]
  },
  {
   "cell_type": "code",
   "execution_count": 32,
   "metadata": {},
   "outputs": [],
   "source": [
    "client = WatsonMachineLearningAPIClient(wml_credentials)\n"
   ]
  },
  {
   "cell_type": "code",
   "execution_count": 33,
   "metadata": {},
   "outputs": [],
   "source": [
    "instance_details = client.service_instance.get_details()"
   ]
  },
  {
   "cell_type": "code",
   "execution_count": 34,
   "metadata": {},
   "outputs": [],
   "source": [
    "model_props = {client.repository.ModelMetaNames.AUTHOR_NAME: \"nikhil,anish,santhosh,girish\", \n",
    "               client.repository.ModelMetaNames.AUTHOR_EMAIL: \"girish@ibm.com\", \n",
    "               client.repository.ModelMetaNames.NAME: \"rainfall\"}\n",
    "\n"
   ]
  },
  {
   "cell_type": "code",
   "execution_count": 35,
   "metadata": {},
   "outputs": [],
   "source": [
    "model_artifact =client.repository.store_model(regressor, meta_props=model_props)\n"
   ]
  },
  {
   "cell_type": "code",
   "execution_count": 36,
   "metadata": {},
   "outputs": [],
   "source": [
    "published_model_uid = client.repository.get_model_uid(model_artifact)"
   ]
  },
  {
   "cell_type": "code",
   "execution_count": 37,
   "metadata": {},
   "outputs": [],
   "source": [
    "model_details = client.repository.get_details(published_model_uid)\n"
   ]
  },
  {
   "cell_type": "code",
   "execution_count": 38,
   "metadata": {},
   "outputs": [
    {
     "name": "stdout",
     "output_type": "stream",
     "text": [
      "------------------------------------  --------  ------------------------  -----------------\n",
      "GUID                                  NAME      CREATED                   FRAMEWORK\n",
      "454b5d08-fa97-43c0-9907-074a7384ea37  rainfall  2019-06-20T18:35:30.437Z  scikit-learn-0.19\n",
      "996de7f0-b8ac-47c5-9baf-3d806223adb3  rainfall  2019-06-20T16:38:56.283Z  scikit-learn-0.19\n",
      "5f311d2a-f565-4454-8deb-ce433280ba41  rainfall  2019-06-19T16:48:41.801Z  scikit-learn-0.19\n",
      "afcdda57-f797-482b-ba13-4133411bfef8  ml        2019-06-18T06:39:42.296Z  scikit-learn-0.19\n",
      "------------------------------------  --------  ------------------------  -----------------\n"
     ]
    }
   ],
   "source": [
    "client.repository.list_models()\n"
   ]
  },
  {
   "cell_type": "code",
   "execution_count": 39,
   "metadata": {},
   "outputs": [],
   "source": [
    "loaded_model = client.repository.load(published_model_uid)\n"
   ]
  },
  {
   "cell_type": "code",
   "execution_count": 40,
   "metadata": {},
   "outputs": [
    {
     "name": "stdout",
     "output_type": "stream",
     "text": [
      "\n",
      "\n",
      "#######################################################################################\n",
      "\n",
      "Synchronous deployment creation for uid: '454b5d08-fa97-43c0-9907-074a7384ea37' started\n",
      "\n",
      "#######################################################################################\n",
      "\n",
      "\n",
      "INITIALIZING\n",
      "DEPLOY_SUCCESS\n",
      "\n",
      "\n",
      "------------------------------------------------------------------------------------------------\n",
      "Successfully finished deployment creation, deployment_uid='420cce9b-216b-4d87-92fb-91a69f5e243e'\n",
      "------------------------------------------------------------------------------------------------\n",
      "\n",
      "\n"
     ]
    }
   ],
   "source": [
    "created_deployment = client.deployments.create(published_model_uid, name=\"rainfall\")\n"
   ]
  },
  {
   "cell_type": "code",
   "execution_count": 41,
   "metadata": {},
   "outputs": [],
   "source": [
    "scoring_endpoint = client.deployments.get_scoring_url(created_deployment)"
   ]
  },
  {
   "cell_type": "code",
   "execution_count": 42,
   "metadata": {},
   "outputs": [
    {
     "data": {
      "text/plain": [
       "'https://eu-gb.ml.cloud.ibm.com/v3/wml_instances/397e2ade-47a0-4f16-ac0d-fd7a6cfbceb1/deployments/420cce9b-216b-4d87-92fb-91a69f5e243e/online'"
      ]
     },
     "execution_count": 42,
     "metadata": {},
     "output_type": "execute_result"
    }
   ],
   "source": [
    "scoring_endpoint"
   ]
  },
  {
   "cell_type": "code",
   "execution_count": 43,
   "metadata": {},
   "outputs": [
    {
     "name": "stdout",
     "output_type": "stream",
     "text": [
      "------------------------------------  --------  ------  --------------  ------------------------  -----------------  -------------\n",
      "GUID                                  NAME      TYPE    STATE           CREATED                   FRAMEWORK          ARTIFACT TYPE\n",
      "420cce9b-216b-4d87-92fb-91a69f5e243e  rainfall  online  DEPLOY_SUCCESS  2019-06-20T18:35:46.292Z  scikit-learn-0.19  model\n",
      "d787cd07-49a0-492d-882b-144c4056aa4d  rainfall  online  DEPLOY_SUCCESS  2019-06-20T16:39:24.418Z  scikit-learn-0.19  model\n",
      "6ca1145c-4378-46ca-8e16-6c57f8ceb75d  rainfall  online  DEPLOY_SUCCESS  2019-06-19T16:52:12.055Z  scikit-learn-0.19  model\n",
      "adbdaf2b-38ea-4f2f-9267-440f9d49ed80  ml        online  DEPLOY_SUCCESS  2019-06-18T07:00:45.512Z  scikit-learn-0.19  model\n",
      "------------------------------------  --------  ------  --------------  ------------------------  -----------------  -------------\n"
     ]
    }
   ],
   "source": [
    "client.deployments.list()"
   ]
  },
  {
   "cell_type": "code",
   "execution_count": 44,
   "metadata": {},
   "outputs": [],
   "source": [
    "scoring_payload = {\"fields\": [\"Year\",\"month\",\"day\",\"tempavg\",\"DPavg\",\"humidity avg\",\"SLPavg\",\"visibilityavg\",\"windavg\"],\"values\": [[2011,5,20,29,25,75,1002,6,14]]}\n"
   ]
  },
  {
   "cell_type": "code",
   "execution_count": 45,
   "metadata": {},
   "outputs": [],
   "source": [
    "predictions = client.deployments.score(scoring_endpoint, scoring_payload)\n",
    "\n"
   ]
  },
  {
   "cell_type": "code",
   "execution_count": 46,
   "metadata": {},
   "outputs": [
    {
     "data": {
      "text/plain": [
       "{'fields': ['prediction'], 'values': [[0.3862000000000001]]}"
      ]
     },
     "execution_count": 46,
     "metadata": {},
     "output_type": "execute_result"
    }
   ],
   "source": [
    "predictions"
   ]
  },
  {
   "cell_type": "code",
   "execution_count": null,
   "metadata": {},
   "outputs": [],
   "source": []
  }
 ],
 "metadata": {
  "kernelspec": {
   "display_name": "Python 3",
   "language": "python",
   "name": "python3"
  },
  "language_info": {
   "codemirror_mode": {
    "name": "ipython",
    "version": 3
   },
   "file_extension": ".py",
   "mimetype": "text/x-python",
   "name": "python",
   "nbconvert_exporter": "python",
   "pygments_lexer": "ipython3",
   "version": "3.7.3"
  }
 },
 "nbformat": 4,
 "nbformat_minor": 2
}
